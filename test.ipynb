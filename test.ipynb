{
 "cells": [
  {
   "cell_type": "code",
   "execution_count": null,
   "source": [
    "import numpy as np\r\n",
    "import tensorflow as tf\r\n",
    "import pandas as pd\r\n",
    "import pickle\r\n",
    "import json\r\n",
    "from tensorflow import keras\r\n",
    "import spacy\r\n",
    "import nltk\r\n",
    "import re\r\n",
    "from nltk.stem import WordNetLemmatizer\r\n"
   ],
   "outputs": [],
   "metadata": {}
  },
  {
   "cell_type": "code",
   "execution_count": null,
   "source": [
    "lemmatizer = WordNetLemmatizer()\r\n",
    "\r\n",
    "def check_presence(df, col, item):\r\n",
    "    bool_list = []\r\n",
    "    item = clear_query(item)\r\n",
    "    for entry in df[col]:\r\n",
    "        bool_list.append(str(item).lower() in str(entry).lower())\r\n",
    "    return bool_list\r\n",
    "\r\n",
    "def clear_query(token):\r\n",
    "        stop_words_with_numbers = [\r\n",
    "            (\"gb\", \"\"),\r\n",
    "            (\"k\", \"000\"),\r\n",
    "            (\"hr\", \"\"),\r\n",
    "            (\"wh\", \"\"),\r\n",
    "            (\"watts\", \"\"),\r\n",
    "            (\"hrs\", \"\"),\r\n",
    "            (\"watthr\", \"\")\r\n",
    "        ]\r\n",
    "        stop_words_without_numbers = [\r\n",
    "            (\"core\", \"\"),\r\n",
    "            (\"quad\", '4'),\r\n",
    "            (\"hexa\", \"6\"),\r\n",
    "            (\"octa\", \"8\"),\r\n",
    "            (\" \", \"\"),\r\n",
    "            (\".\", \"\"),\r\n",
    "            (\",\", \"\"),\r\n",
    "            (\"-\", \"\"),\r\n",
    "            (\"working\", \"work\")\r\n",
    "        ]\r\n",
    "\r\n",
    "        tuples = []\r\n",
    "        # remove non-numbered stopwords\r\n",
    "        for word, replacement in stop_words_without_numbers:\r\n",
    "            token = token.replace(word, replacement).strip()\r\n",
    "        \r\n",
    "        # remove numbered stopwords\r\n",
    "        for word, replacement in stop_words_with_numbers:\r\n",
    "            if len(re.findall(r\"\\d+\" + word, token)) > 0:\r\n",
    "                token = token.replace(word, replacement).strip()\r\n",
    "        \r\n",
    "        return lemmatizer.lemmatize(token)\r\n",
    "\r\n",
    "class Chatbot:\r\n",
    "    def __init__(self, intent_bot_path=\"./models/bot_V1.model\", ner_bot_path=\"./models/spacy_V2/model-best\", words_path=\"words.pkl\", classes_path=\"classes.pkl\", intents_path=\"intents.json\"):\r\n",
    "        print(\"loading models\")\r\n",
    "        self.intent_classifier = keras.models.load_model(intent_bot_path)\r\n",
    "        self.nlp = spacy.load(ner_bot_path)\r\n",
    "        self.words = pickle.load(open(words_path, \"rb\"))\r\n",
    "        self.classes = pickle.load(open(classes_path, \"rb\"))\r\n",
    "        self.intents = json.load(open(intents_path, \"r\"))\r\n",
    "        self.lemmatizer = WordNetLemmatizer()\r\n",
    "        self.ner_labels = [\r\n",
    "            \"MANUFACTURER\",\r\n",
    "            \"MODEL\",\r\n",
    "            \"CPU_BRAND\",\r\n",
    "            \"CPU_SERIES\",\r\n",
    "            \"CPU_MODEL\",\r\n",
    "            \"CORE_COUNT\",\r\n",
    "            \"CPU_GEN\",\r\n",
    "            \"RAM\",\r\n",
    "            \"GPU_BRAND\",\r\n",
    "            \"GPU\",\r\n",
    "            \"GPU_TECH\",\r\n",
    "            \"GPU_SERIES\",\r\n",
    "            \"VRAM\",\r\n",
    "            \"SCREEN_SIZE\",\r\n",
    "            \"TYPE\",\r\n",
    "            \"PRICE\",\r\n",
    "            \"STORAGE_TYPE\",\r\n",
    "            \"STORAGE_SIZE\",\r\n",
    "            \"BAT_CAP\",\r\n",
    "            \"MISC\",\r\n",
    "            \"PRICE_TYPE\",\r\n",
    "            \"SCREEN_RESO\",\r\n",
    "            \"IO\",\r\n",
    "            \"OS\"\r\n",
    "        ]\r\n",
    "        self.dataframe = pd.read_csv(\"./tables/products.csv\")\r\n",
    "        print(\"models loaded\")\r\n",
    "    \r\n",
    "    def preprocess(self, item):\r\n",
    "        tokens = nltk.word_tokenize(item)\r\n",
    "        tokens = [self.lemmatizer.lemmatize(word) for word in tokens]\r\n",
    "        return tokens\r\n",
    "\r\n",
    "    def bag_of_words(self, sentence):\r\n",
    "        sentence_words = self.preprocess(sentence)\r\n",
    "        bag = [0] * len(self.words)\r\n",
    "        for w in sentence_words:\r\n",
    "            for i, word in enumerate(self.words):\r\n",
    "                if word == w:\r\n",
    "                    bag[i] = 1\r\n",
    "        \r\n",
    "        return np.array(bag)\r\n",
    "\r\n",
    "    def predict_intent(self, sentence, tolerance=0.7):\r\n",
    "        bow = self.bag_of_words(sentence)\r\n",
    "        prediction = self.intent_classifier(np.array([bow]))[0]\r\n",
    "        max_value = max(prediction).numpy()\r\n",
    "        res = np.where(prediction.numpy() == max_value)[0][0]\r\n",
    "        if res >= tolerance:\r\n",
    "            return res\r\n",
    "        else:\r\n",
    "            return -1\r\n",
    "\r\n",
    "    def ner(self, sentence):\r\n",
    "        doc = self.nlp(sentence)\r\n",
    "        output = {}\r\n",
    "\r\n",
    "        for label in self.ner_labels:\r\n",
    "            output[label] = []\r\n",
    "\r\n",
    "        for ent in doc.ents:\r\n",
    "            output[ent.label_].append(ent.text)\r\n",
    "        \r\n",
    "        return output\r\n",
    "\r\n",
    "    def query(self, sentence):\r\n",
    "        labels = self.ner(sentence)\r\n",
    "        df = self.dataframe.copy(deep=True)\r\n",
    "        response = pd.DataFrame(columns=df.columns) # self.dataframe.loc[self.dataframe[self.ner_labels[0]] == labels[self.ner_labels[0]]]\r\n",
    "        final = []\r\n",
    "        print(labels)\r\n",
    "        \r\n",
    "        for label in self.ner_labels:\r\n",
    "            if len(labels[label]) > 0:\r\n",
    "                print(labels[label])\r\n",
    "                check = df if not len(response) > 0 else response\r\n",
    "                empty = pd.DataFrame(columns=df.columns)\r\n",
    "                for item in labels[label]:\r\n",
    "                    temp = check.loc[check[label].apply(str).apply(str.lower).apply(clear_query).str.contains(clear_query(item.lower()))] #check.loc[check_presence(check, label, item)]\r\n",
    "                    empty = empty.append(temp)\r\n",
    "                response = empty.copy(deep=True)\r\n",
    "                # return response\r\n",
    "\r\n",
    "        for i in range(len(response)):\r\n",
    "            final.append(response.iloc[i].to_dict())\r\n",
    "\r\n",
    "        return final\r\n",
    "    \r\n",
    "    "
   ],
   "outputs": [],
   "metadata": {}
  },
  {
   "cell_type": "code",
   "execution_count": null,
   "source": [
    "bot = Chatbot()"
   ],
   "outputs": [],
   "metadata": {}
  },
  {
   "cell_type": "code",
   "execution_count": null,
   "source": [
    "clear_query(\"student\") # working -> work"
   ],
   "outputs": [],
   "metadata": {}
  },
  {
   "cell_type": "code",
   "execution_count": null,
   "source": [
    "(bot.query(\"I want to gift my friend a work laptop with 8gb ram\"))"
   ],
   "outputs": [],
   "metadata": {}
  },
  {
   "cell_type": "code",
   "execution_count": null,
   "source": [
    "import pandas as pd"
   ],
   "outputs": [],
   "metadata": {}
  },
  {
   "cell_type": "code",
   "execution_count": null,
   "source": [
    "df = pd.read_clipboard()"
   ],
   "outputs": [],
   "metadata": {}
  },
  {
   "cell_type": "code",
   "execution_count": null,
   "source": [
    "bot.ner_labels"
   ],
   "outputs": [],
   "metadata": {}
  },
  {
   "cell_type": "code",
   "execution_count": null,
   "source": [
    "outputs"
   ],
   "outputs": [],
   "metadata": {}
  },
  {
   "cell_type": "code",
   "execution_count": null,
   "source": [
    "df.columns"
   ],
   "outputs": [],
   "metadata": {}
  },
  {
   "cell_type": "code",
   "execution_count": null,
   "source": [
    "label_map = {\r\n",
    "    \"BRAND\" : [\"MANUFACTURER\", \"MODEL\", \"CPU_BRAND\", \"GPU_BRAND\"],\r\n",
    "    \"PRICE\" : [\"PRICE\"],\r\n",
    "}"
   ],
   "outputs": [],
   "metadata": {}
  },
  {
   "cell_type": "code",
   "execution_count": null,
   "source": [
    "output_df = pd.DataFrame(columns=df.columns)\r\n",
    "for label in list(outputs.keys())[1]:\r\n",
    "    for item in label_map[label]:\r\n",
    "        output_df = output_df.append(df.loc[df[item] == outputs[label][0]])\r\n",
    "    "
   ],
   "outputs": [],
   "metadata": {}
  },
  {
   "cell_type": "code",
   "execution_count": null,
   "source": [
    "output_df"
   ],
   "outputs": [],
   "metadata": {}
  },
  {
   "cell_type": "code",
   "execution_count": 1,
   "source": [
    "from chatbot import Chatbot\r\n",
    "chatbot = Chatbot()"
   ],
   "outputs": [
    {
     "output_type": "stream",
     "name": "stderr",
     "text": [
      "C:\\Users\\vedan\\AppData\\Local\\Programs\\Python\\Python38\\lib\\site-packages\\numpy\\_distributor_init.py:30: UserWarning: loaded more than 1 DLL from .libs:\n",
      "C:\\Users\\vedan\\AppData\\Local\\Programs\\Python\\Python38\\lib\\site-packages\\numpy\\.libs\\libopenblas.PYQHXLVVQ7VESDPUVUADXEVJOBGHJPAY.gfortran-win_amd64.dll\n",
      "C:\\Users\\vedan\\AppData\\Local\\Programs\\Python\\Python38\\lib\\site-packages\\numpy\\.libs\\libopenblas.XWYDX2IKJW2NMTWSFYNGFUWKQU3LYTCZ.gfortran-win_amd64.dll\n",
      "  warnings.warn(\"loaded more than 1 DLL from .libs:\"\n"
     ]
    },
    {
     "output_type": "stream",
     "name": "stdout",
     "text": [
      "loading models\n",
      "models loaded\n"
     ]
    }
   ],
   "metadata": {}
  },
  {
   "cell_type": "code",
   "execution_count": 6,
   "source": [
    "chatbot.query(\"I want an laptop for 75k.\")[\"PRICE\"]"
   ],
   "outputs": [
    {
     "output_type": "stream",
     "name": "stdout",
     "text": [
      "{'MANUFACTURER': [], 'MODEL': [], 'CPU_BRAND': [], 'CPU_SERIES': [], 'CPU_MODEL': [], 'CORE_COUNT': [], 'CPU_GEN': [], 'RAM': [], 'GPU_BRAND': [], 'GPU': [], 'GPU_TECH': [], 'GPU_SERIES': [], 'VRAM': [], 'SCREEN_SIZE': [], 'TYPE': [], 'PRICE': ['75k'], 'STORAGE_TYPE': [], 'STORAGE_SIZE': [], 'BAT_CAP': [], 'MISC': [], 'PRICE_TYPE': [], 'SCREEN_RESO': [], 'IO': [], 'OS': []}\n",
      "0\n"
     ]
    },
    {
     "output_type": "execute_result",
     "data": {
      "text/html": [
       "<div>\n",
       "<style scoped>\n",
       "    .dataframe tbody tr th:only-of-type {\n",
       "        vertical-align: middle;\n",
       "    }\n",
       "\n",
       "    .dataframe tbody tr th {\n",
       "        vertical-align: top;\n",
       "    }\n",
       "\n",
       "    .dataframe thead th {\n",
       "        text-align: right;\n",
       "    }\n",
       "</style>\n",
       "<table border=\"1\" class=\"dataframe\">\n",
       "  <thead>\n",
       "    <tr style=\"text-align: right;\">\n",
       "      <th></th>\n",
       "      <th>PRICE</th>\n",
       "      <th>PRICE</th>\n",
       "    </tr>\n",
       "  </thead>\n",
       "  <tbody>\n",
       "    <tr>\n",
       "      <th>0</th>\n",
       "      <td>75000.0</td>\n",
       "      <td>75000.0</td>\n",
       "    </tr>\n",
       "    <tr>\n",
       "      <th>1</th>\n",
       "      <td>75000.0</td>\n",
       "      <td>75000.0</td>\n",
       "    </tr>\n",
       "    <tr>\n",
       "      <th>2</th>\n",
       "      <td>75000.0</td>\n",
       "      <td>75000.0</td>\n",
       "    </tr>\n",
       "    <tr>\n",
       "      <th>3</th>\n",
       "      <td>77000.0</td>\n",
       "      <td>77000.0</td>\n",
       "    </tr>\n",
       "  </tbody>\n",
       "</table>\n",
       "</div>"
      ],
      "text/plain": [
       "     PRICE    PRICE\n",
       "0  75000.0  75000.0\n",
       "1  75000.0  75000.0\n",
       "2  75000.0  75000.0\n",
       "3  77000.0  77000.0"
      ]
     },
     "metadata": {},
     "execution_count": 6
    }
   ],
   "metadata": {}
  },
  {
   "cell_type": "code",
   "execution_count": null,
   "source": [],
   "outputs": [],
   "metadata": {}
  }
 ],
 "metadata": {
  "orig_nbformat": 4,
  "language_info": {
   "name": "python",
   "version": "3.8.7",
   "mimetype": "text/x-python",
   "codemirror_mode": {
    "name": "ipython",
    "version": 3
   },
   "pygments_lexer": "ipython3",
   "nbconvert_exporter": "python",
   "file_extension": ".py"
  },
  "kernelspec": {
   "name": "python3",
   "display_name": "Python 3.8.7 64-bit"
  },
  "interpreter": {
   "hash": "94edbaacddaafd6d45ba5506bea1ce8a371c01e0c71d6cc8e1f8803236d6de55"
  }
 },
 "nbformat": 4,
 "nbformat_minor": 2
}